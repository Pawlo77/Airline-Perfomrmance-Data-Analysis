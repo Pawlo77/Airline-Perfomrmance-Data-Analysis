{
    "cells": [
        {
            "cell_type": "code",
            "execution_count": 1,
            "metadata": {},
            "outputs": [
                {
                    "name": "stderr",
                    "output_type": "stream",
                    "text": [
                        "INFO:root:Converted /home/igor/Repos/Airline-Performance-Data-Analysis/src/datasets/2004.csv.bz2. Original size 3323839570 bytes shrinked to 563739985 bytes (0.16961)\n",
                        "INFO:root:Converted /home/igor/Repos/Airline-Performance-Data-Analysis/src/datasets/2005.csv.bz2. Original size 3329298635 bytes shrinked to 564612807 bytes (0.16959)\n"
                    ]
                }
            ],
            "source": [
                "import warnings\n",
                "import numpy as np\n",
                "import seaborn as sns\n",
                "\n",
                "from utils import load_flights\n",
                "from utils.data_preparation import prepare_data\n",
                "\n",
                "np.random.seed(42)\n",
                "sns.set_style(\"whitegrid\")\n",
                "\n",
                "prepare_data()\n",
                "\n",
                "warnings.simplefilter(action=\"ignore\")"
            ]
        },
        {
            "attachments": {},
            "cell_type": "markdown",
            "metadata": {},
            "source": [
                "# Fast EDA for 2008 year"
            ]
        },
        {
            "cell_type": "code",
            "execution_count": 2,
            "metadata": {},
            "outputs": [],
            "source": [
                "flights = load_flights([\"2008\"])"
            ]
        },
        {
            "cell_type": "code",
            "execution_count": 3,
            "metadata": {},
            "outputs": [
                {
                    "data": {
                        "text/plain": [
                            "Index                     128\n",
                            "DayOfWeek             2389217\n",
                            "UniqueCarrier         2390953\n",
                            "FlightNum             4778434\n",
                            "TailNum               5227481\n",
                            "ActualElapsedTime     9556868\n",
                            "CRSElapsedTime        9556868\n",
                            "AirTime               9556868\n",
                            "ArrDelay              9556868\n",
                            "DepDelay              9556868\n",
                            "Origin                4804190\n",
                            "Dest                  4804310\n",
                            "Distance              4778434\n",
                            "TaxiIn                9556868\n",
                            "TaxiOut               9556868\n",
                            "Cancelled             2389217\n",
                            "CancellationCode      2389621\n",
                            "Diverted              2389217\n",
                            "CarrierDelay          9556868\n",
                            "WeatherDelay          9556868\n",
                            "NASDelay              9556868\n",
                            "SecurityDelay         9556868\n",
                            "LateAircraftDelay     9556868\n",
                            "Departure            19113736\n",
                            "CRSDeparture         19113736\n",
                            "Arrival              19113736\n",
                            "CRSArrival           19113736\n",
                            "dtype: int64"
                        ]
                    },
                    "execution_count": 3,
                    "metadata": {},
                    "output_type": "execute_result"
                }
            ],
            "source": [
                "flights.memory_usage(deep=True)"
            ]
        },
        {
            "cell_type": "code",
            "execution_count": null,
            "metadata": {},
            "outputs": [],
            "source": [
                "flights.info()"
            ]
        },
        {
            "cell_type": "code",
            "execution_count": null,
            "metadata": {},
            "outputs": [],
            "source": [
                "flights.describe().T"
            ]
        },
        {
            "cell_type": "code",
            "execution_count": null,
            "metadata": {},
            "outputs": [],
            "source": [
                "flights.isna().sum(axis=0)"
            ]
        },
        {
            "cell_type": "code",
            "execution_count": 4,
            "metadata": {},
            "outputs": [
                {
                    "data": {
                        "text/html": [
                            "<div>\n",
                            "<style scoped>\n",
                            "    .dataframe tbody tr th:only-of-type {\n",
                            "        vertical-align: middle;\n",
                            "    }\n",
                            "\n",
                            "    .dataframe tbody tr th {\n",
                            "        vertical-align: top;\n",
                            "    }\n",
                            "\n",
                            "    .dataframe thead th {\n",
                            "        text-align: right;\n",
                            "    }\n",
                            "</style>\n",
                            "<table border=\"1\" class=\"dataframe\">\n",
                            "  <thead>\n",
                            "    <tr style=\"text-align: right;\">\n",
                            "      <th></th>\n",
                            "      <th>DayOfWeek</th>\n",
                            "      <th>UniqueCarrier</th>\n",
                            "      <th>FlightNum</th>\n",
                            "      <th>TailNum</th>\n",
                            "      <th>ActualElapsedTime</th>\n",
                            "      <th>CRSElapsedTime</th>\n",
                            "      <th>AirTime</th>\n",
                            "      <th>ArrDelay</th>\n",
                            "      <th>DepDelay</th>\n",
                            "      <th>Origin</th>\n",
                            "      <th>...</th>\n",
                            "      <th>Diverted</th>\n",
                            "      <th>CarrierDelay</th>\n",
                            "      <th>WeatherDelay</th>\n",
                            "      <th>NASDelay</th>\n",
                            "      <th>SecurityDelay</th>\n",
                            "      <th>LateAircraftDelay</th>\n",
                            "      <th>Departure</th>\n",
                            "      <th>CRSDeparture</th>\n",
                            "      <th>Arrival</th>\n",
                            "      <th>CRSArrival</th>\n",
                            "    </tr>\n",
                            "  </thead>\n",
                            "  <tbody>\n",
                            "    <tr>\n",
                            "      <th>0</th>\n",
                            "      <td>4</td>\n",
                            "      <td>WN</td>\n",
                            "      <td>588</td>\n",
                            "      <td>N240WN</td>\n",
                            "      <td>68.0</td>\n",
                            "      <td>70.0</td>\n",
                            "      <td>55.0</td>\n",
                            "      <td>16.0</td>\n",
                            "      <td>18.0</td>\n",
                            "      <td>HOU</td>\n",
                            "      <td>...</td>\n",
                            "      <td>0</td>\n",
                            "      <td>16.0</td>\n",
                            "      <td>0.0</td>\n",
                            "      <td>0.0</td>\n",
                            "      <td>0.0</td>\n",
                            "      <td>0.0</td>\n",
                            "      <td>2008-01-03 13:43:00</td>\n",
                            "      <td>2008-01-03 13:25:00</td>\n",
                            "      <td>2008-01-03 14:51:00</td>\n",
                            "      <td>2008-01-03 14:35:00</td>\n",
                            "    </tr>\n",
                            "    <tr>\n",
                            "      <th>1</th>\n",
                            "      <td>4</td>\n",
                            "      <td>WN</td>\n",
                            "      <td>1343</td>\n",
                            "      <td>N523SW</td>\n",
                            "      <td>82.0</td>\n",
                            "      <td>85.0</td>\n",
                            "      <td>71.0</td>\n",
                            "      <td>2.0</td>\n",
                            "      <td>5.0</td>\n",
                            "      <td>HOU</td>\n",
                            "      <td>...</td>\n",
                            "      <td>0</td>\n",
                            "      <td>NaN</td>\n",
                            "      <td>NaN</td>\n",
                            "      <td>NaN</td>\n",
                            "      <td>NaN</td>\n",
                            "      <td>NaN</td>\n",
                            "      <td>2008-01-03 11:25:00</td>\n",
                            "      <td>2008-01-03 11:20:00</td>\n",
                            "      <td>2008-01-03 12:47:00</td>\n",
                            "      <td>2008-01-03 12:45:00</td>\n",
                            "    </tr>\n",
                            "    <tr>\n",
                            "      <th>2</th>\n",
                            "      <td>4</td>\n",
                            "      <td>WN</td>\n",
                            "      <td>3841</td>\n",
                            "      <td>N280WN</td>\n",
                            "      <td>87.0</td>\n",
                            "      <td>85.0</td>\n",
                            "      <td>71.0</td>\n",
                            "      <td>-4.0</td>\n",
                            "      <td>-6.0</td>\n",
                            "      <td>HOU</td>\n",
                            "      <td>...</td>\n",
                            "      <td>0</td>\n",
                            "      <td>NaN</td>\n",
                            "      <td>NaN</td>\n",
                            "      <td>NaN</td>\n",
                            "      <td>NaN</td>\n",
                            "      <td>NaN</td>\n",
                            "      <td>2008-01-03 20:09:00</td>\n",
                            "      <td>2008-01-03 20:15:00</td>\n",
                            "      <td>2008-01-03 21:36:00</td>\n",
                            "      <td>2008-01-03 21:40:00</td>\n",
                            "    </tr>\n",
                            "    <tr>\n",
                            "      <th>3</th>\n",
                            "      <td>4</td>\n",
                            "      <td>WN</td>\n",
                            "      <td>3</td>\n",
                            "      <td>N308SA</td>\n",
                            "      <td>120.0</td>\n",
                            "      <td>130.0</td>\n",
                            "      <td>108.0</td>\n",
                            "      <td>-2.0</td>\n",
                            "      <td>8.0</td>\n",
                            "      <td>HOU</td>\n",
                            "      <td>...</td>\n",
                            "      <td>0</td>\n",
                            "      <td>NaN</td>\n",
                            "      <td>NaN</td>\n",
                            "      <td>NaN</td>\n",
                            "      <td>NaN</td>\n",
                            "      <td>NaN</td>\n",
                            "      <td>2008-01-03 09:03:00</td>\n",
                            "      <td>2008-01-03 08:55:00</td>\n",
                            "      <td>2008-01-03 12:03:00</td>\n",
                            "      <td>2008-01-03 12:05:00</td>\n",
                            "    </tr>\n",
                            "    <tr>\n",
                            "      <th>4</th>\n",
                            "      <td>4</td>\n",
                            "      <td>WN</td>\n",
                            "      <td>25</td>\n",
                            "      <td>N462WN</td>\n",
                            "      <td>123.0</td>\n",
                            "      <td>130.0</td>\n",
                            "      <td>107.0</td>\n",
                            "      <td>16.0</td>\n",
                            "      <td>23.0</td>\n",
                            "      <td>HOU</td>\n",
                            "      <td>...</td>\n",
                            "      <td>0</td>\n",
                            "      <td>16.0</td>\n",
                            "      <td>0.0</td>\n",
                            "      <td>0.0</td>\n",
                            "      <td>0.0</td>\n",
                            "      <td>0.0</td>\n",
                            "      <td>2008-01-03 14:23:00</td>\n",
                            "      <td>2008-01-03 14:00:00</td>\n",
                            "      <td>2008-01-03 17:26:00</td>\n",
                            "      <td>2008-01-03 17:10:00</td>\n",
                            "    </tr>\n",
                            "  </tbody>\n",
                            "</table>\n",
                            "<p>5 rows × 26 columns</p>\n",
                            "</div>"
                        ],
                        "text/plain": [
                            "   DayOfWeek UniqueCarrier  FlightNum TailNum  ActualElapsedTime   \n",
                            "0          4            WN        588  N240WN               68.0  \\\n",
                            "1          4            WN       1343  N523SW               82.0   \n",
                            "2          4            WN       3841  N280WN               87.0   \n",
                            "3          4            WN          3  N308SA              120.0   \n",
                            "4          4            WN         25  N462WN              123.0   \n",
                            "\n",
                            "   CRSElapsedTime  AirTime  ArrDelay  DepDelay Origin  ... Diverted   \n",
                            "0            70.0     55.0      16.0      18.0    HOU  ...        0  \\\n",
                            "1            85.0     71.0       2.0       5.0    HOU  ...        0   \n",
                            "2            85.0     71.0      -4.0      -6.0    HOU  ...        0   \n",
                            "3           130.0    108.0      -2.0       8.0    HOU  ...        0   \n",
                            "4           130.0    107.0      16.0      23.0    HOU  ...        0   \n",
                            "\n",
                            "   CarrierDelay  WeatherDelay  NASDelay  SecurityDelay LateAircraftDelay   \n",
                            "0          16.0           0.0       0.0            0.0               0.0  \\\n",
                            "1           NaN           NaN       NaN            NaN               NaN   \n",
                            "2           NaN           NaN       NaN            NaN               NaN   \n",
                            "3           NaN           NaN       NaN            NaN               NaN   \n",
                            "4          16.0           0.0       0.0            0.0               0.0   \n",
                            "\n",
                            "            Departure        CRSDeparture             Arrival   \n",
                            "0 2008-01-03 13:43:00 2008-01-03 13:25:00 2008-01-03 14:51:00  \\\n",
                            "1 2008-01-03 11:25:00 2008-01-03 11:20:00 2008-01-03 12:47:00   \n",
                            "2 2008-01-03 20:09:00 2008-01-03 20:15:00 2008-01-03 21:36:00   \n",
                            "3 2008-01-03 09:03:00 2008-01-03 08:55:00 2008-01-03 12:03:00   \n",
                            "4 2008-01-03 14:23:00 2008-01-03 14:00:00 2008-01-03 17:26:00   \n",
                            "\n",
                            "           CRSArrival  \n",
                            "0 2008-01-03 14:35:00  \n",
                            "1 2008-01-03 12:45:00  \n",
                            "2 2008-01-03 21:40:00  \n",
                            "3 2008-01-03 12:05:00  \n",
                            "4 2008-01-03 17:10:00  \n",
                            "\n",
                            "[5 rows x 26 columns]"
                        ]
                    },
                    "execution_count": 4,
                    "metadata": {},
                    "output_type": "execute_result"
                }
            ],
            "source": [
                "flights.head()"
            ]
        },
        {
            "attachments": {},
            "cell_type": "markdown",
            "metadata": {},
            "source": [
                "# Example for all years"
            ]
        },
        {
            "cell_type": "code",
            "execution_count": 5,
            "metadata": {},
            "outputs": [
                {
                    "ename": "",
                    "evalue": "",
                    "output_type": "error",
                    "traceback": [
                        "\u001b[1;31mCanceled future for execute_request message before replies were done"
                    ]
                },
                {
                    "ename": "",
                    "evalue": "",
                    "output_type": "error",
                    "traceback": [
                        "\u001b[1;31mThe Kernel crashed while executing code in the the current cell or a previous cell. Please review the code in the cell(s) to identify a possible cause of the failure. Click <a href='https://aka.ms/vscodeJupyterKernelCrash'>here</a> for more info. View Jupyter <a href='command:jupyter.viewOutput'>log</a> for further details."
                    ]
                }
            ],
            "source": [
                "flights = load_flights()\n",
                "flights.info()"
            ]
        },
        {
            "cell_type": "code",
            "execution_count": null,
            "metadata": {},
            "outputs": [],
            "source": [
                "flights.memory_usage(deep=True)"
            ]
        }
    ],
    "metadata": {
        "kernelspec": {
            "display_name": "pdu_pro2",
            "language": "python",
            "name": "python3"
        },
        "language_info": {
            "codemirror_mode": {
                "name": "ipython",
                "version": 3
            },
            "file_extension": ".py",
            "mimetype": "text/x-python",
            "name": "python",
            "nbconvert_exporter": "python",
            "pygments_lexer": "ipython3",
            "version": "3.10.11"
        },
        "orig_nbformat": 4
    },
    "nbformat": 4,
    "nbformat_minor": 2
}
